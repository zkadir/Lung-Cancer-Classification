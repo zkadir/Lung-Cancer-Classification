{
 "cells": [
  {
   "cell_type": "code",
   "execution_count": 4,
   "id": "d9f53428",
   "metadata": {},
   "outputs": [],
   "source": [
    "import os\n",
    "import glob\n",
    "from PIL import Image\n",
    "from torch.utils.data import Dataset"
   ]
  },
  {
   "cell_type": "code",
   "execution_count": 9,
   "id": "1d27265a",
   "metadata": {},
   "outputs": [],
   "source": [
    "# Create a class called Lung and inherit from Torch Dataset Class\n",
    "class Lung(Dataset):\n",
    "    \n",
    "    def __init__(self, transform=False):  # lung_type: str\n",
    "        \n",
    "        # Define path to Lung image set folder\n",
    "        self.imgs_path = \"lung_colon_image_set/lung_image_sets/\"\n",
    "        \n",
    "        # Create a path for each class in Lung image set folder\n",
    "        file_list = glob.glob(self.imgs_path + \"*\")\n",
    "        # print(file_list)\n",
    "        \n",
    "        self.data = []\n",
    "        for class_path in file_list:\n",
    "            # Get class name\n",
    "            class_name = class_path.split('/')[-1]\n",
    "            for img_path in glob.glob(class_path + \"/*.jpeg\"):\n",
    "                self.data.append([img_path, class_name])\n",
    "        \n",
    "        self.class_map = {\"lung_n\": 0, \"lung_scc\": 1, \"lung_aca\": 2}\n",
    "        self.transform = transform\n",
    "\n",
    "    def __len__(self):\n",
    "        return len(self.data)\n",
    "    \n",
    "    def __getitem__(self, idx):\n",
    "        img_path, class_name = self.data[idx]\n",
    "        img = Image.open(img_path)\n",
    "        class_id = self.class_map[class_name]\n",
    "        if self.transform is not None:\n",
    "            img = self.transform(img)\n",
    "        #img = img.permute(2, 1, 0)\n",
    "        return img, class_id"
   ]
  },
  {
   "cell_type": "code",
   "execution_count": 10,
   "id": "0c8cbfbb",
   "metadata": {},
   "outputs": [],
   "source": [
    "lung = Lung()"
   ]
  },
  {
   "cell_type": "code",
   "execution_count": 11,
   "id": "8f45d9a6",
   "metadata": {},
   "outputs": [
    {
     "ename": "TypeError",
     "evalue": "'bool' object is not callable",
     "output_type": "error",
     "traceback": [
      "\u001b[0;31m---------------------------------------------------------------------------\u001b[0m",
      "\u001b[0;31mTypeError\u001b[0m                                 Traceback (most recent call last)",
      "Input \u001b[0;32mIn [11]\u001b[0m, in \u001b[0;36m<module>\u001b[0;34m\u001b[0m\n\u001b[0;32m----> 1\u001b[0m \u001b[43mlung\u001b[49m\u001b[43m[\u001b[49m\u001b[38;5;241;43m0\u001b[39;49m\u001b[43m]\u001b[49m\n",
      "Input \u001b[0;32mIn [9]\u001b[0m, in \u001b[0;36mLung.__getitem__\u001b[0;34m(self, idx)\u001b[0m\n\u001b[1;32m     29\u001b[0m class_id \u001b[38;5;241m=\u001b[39m \u001b[38;5;28mself\u001b[39m\u001b[38;5;241m.\u001b[39mclass_map[class_name]\n\u001b[1;32m     30\u001b[0m \u001b[38;5;28;01mif\u001b[39;00m \u001b[38;5;28mself\u001b[39m\u001b[38;5;241m.\u001b[39mtransform \u001b[38;5;129;01mis\u001b[39;00m \u001b[38;5;129;01mnot\u001b[39;00m \u001b[38;5;28;01mNone\u001b[39;00m:\n\u001b[0;32m---> 31\u001b[0m     img \u001b[38;5;241m=\u001b[39m \u001b[38;5;28;43mself\u001b[39;49m\u001b[38;5;241;43m.\u001b[39;49m\u001b[43mtransform\u001b[49m\u001b[43m(\u001b[49m\u001b[43mimg\u001b[49m\u001b[43m)\u001b[49m\n\u001b[1;32m     32\u001b[0m \u001b[38;5;66;03m#img = img.permute(2, 1, 0)\u001b[39;00m\n\u001b[1;32m     33\u001b[0m \u001b[38;5;28;01mreturn\u001b[39;00m img, class_id\n",
      "\u001b[0;31mTypeError\u001b[0m: 'bool' object is not callable"
     ]
    }
   ],
   "source": [
    "lung[0]"
   ]
  },
  {
   "cell_type": "code",
   "execution_count": null,
   "id": "2f275446",
   "metadata": {},
   "outputs": [],
   "source": []
  }
 ],
 "metadata": {
  "kernelspec": {
   "display_name": "Python 3 (ipykernel)",
   "language": "python",
   "name": "python3"
  },
  "language_info": {
   "codemirror_mode": {
    "name": "ipython",
    "version": 3
   },
   "file_extension": ".py",
   "mimetype": "text/x-python",
   "name": "python",
   "nbconvert_exporter": "python",
   "pygments_lexer": "ipython3",
   "version": "3.9.7"
  }
 },
 "nbformat": 4,
 "nbformat_minor": 5
}
