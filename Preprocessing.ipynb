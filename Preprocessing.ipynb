{
 "cells": [
  {
   "cell_type": "code",
   "execution_count": 1,
   "id": "54cfe66c",
   "metadata": {},
   "outputs": [],
   "source": [
    "### IMPORTS ###\n",
    "import os\n",
    "import random\n",
    "import shutil"
   ]
  },
  {
   "cell_type": "code",
   "execution_count": 2,
   "id": "a56c5971",
   "metadata": {},
   "outputs": [],
   "source": [
    "# Define root directory\n",
    "root_dir = \"../Lung-Classification/\""
   ]
  },
  {
   "cell_type": "code",
   "execution_count": 3,
   "id": "60d4603c",
   "metadata": {},
   "outputs": [],
   "source": [
    "# Define train, test and image folder\n",
    "train_dir = \"train\"\n",
    "test_dir = \"test\"\n",
    "lung_img_folder = \"lung_image_sets\""
   ]
  },
  {
   "cell_type": "code",
   "execution_count": 4,
   "id": "dc7800b0",
   "metadata": {},
   "outputs": [],
   "source": [
    "# Create directory/folder for training and testing images \n",
    "os.makedirs(os.path.join(root_dir,train_dir), exist_ok=True)\n",
    "os.makedirs(os.path.join(root_dir, test_dir), exist_ok=True)"
   ]
  },
  {
   "cell_type": "code",
   "execution_count": 5,
   "id": "19daf910",
   "metadata": {},
   "outputs": [],
   "source": [
    "# Identifying classes within the image folder\n",
    "subfolder_names = [subfolder for subfolder in os.listdir(os.path.join(root_dir, lung_img_folder)) if os.path.isdir(os.path.join(root_dir, lung_img_folder, subfolder))]"
   ]
  },
  {
   "cell_type": "code",
   "execution_count": 6,
   "id": "e0ce4d8f",
   "metadata": {},
   "outputs": [
    {
     "data": {
      "text/plain": [
       "['lung_aca', 'lung_n', '.ipynb_checkpoints', 'lung_scc']"
      ]
     },
     "execution_count": 6,
     "metadata": {},
     "output_type": "execute_result"
    }
   ],
   "source": [
    "subfolder_names"
   ]
  },
  {
   "cell_type": "code",
   "execution_count": 7,
   "id": "412b7564",
   "metadata": {},
   "outputs": [
    {
     "name": "stdout",
     "output_type": "stream",
     "text": [
      "No. Train Files: 4000\n",
      "No. Test Files: 1000\n",
      "No. Train Files: 4000\n",
      "No. Test Files: 1000\n",
      "No. Train Files: 0\n",
      "No. Test Files: 0\n",
      "No. Train Files: 4000\n",
      "No. Test Files: 1000\n"
     ]
    }
   ],
   "source": [
    "# Set random seed\n",
    "random.seed(42)\n",
    "\n",
    "# Loop through each image in each class subfolder\n",
    "for subfolder_name in subfolder_names:\n",
    "    # Creating a path for class image\n",
    "    subfolder_path = os.path.join(root_dir, lung_img_folder, subfolder_name)\n",
    "    # Creating paths to train and test directory\n",
    "    train_subfolder_path = os.path.join(root_dir, train_dir, subfolder_name)\n",
    "    test_subfolder_path = os.path.join(root_dir, test_dir, subfolder_name)\n",
    "    \n",
    "    os.makedirs(train_subfolder_path, exist_ok=True)\n",
    "    os.makedirs(test_subfolder_path, exist_ok=True)\n",
    "    \n",
    "    file_names = [file for file in os.listdir(subfolder_path) if os.path.isfile(os.path.join(subfolder_path, file))]\n",
    "    \n",
    "    random.shuffle(file_names)\n",
    "    \n",
    "    \n",
    "    # Split images by 80/20 for train and test\n",
    "    split_index = int(0.8 * len(file_names))\n",
    "    \n",
    "    train_files = file_names[:split_index]\n",
    "    test_files = file_names[split_index:]\n",
    "    \n",
    "    print(f\"No. Train Files: {len(train_files)}\")\n",
    "    print(f\"No. Test Files: {len(test_files)}\")\n",
    "    \n",
    "    # Randomly split set of images in image folder to train and test folder\n",
    "    if len(os.listdir(train_subfolder_path)) > 0:\n",
    "        shutil.rmtree(train_subfolder_path)\n",
    "    \n",
    "    for file in train_files:    \n",
    "        os.makedirs(train_subfolder_path, exist_ok=True)\n",
    "        src_path = os.path.join(subfolder_path, file)\n",
    "        dst_path = os.path.join(train_subfolder_path, file)\n",
    "        shutil.copy(src_path, dst_path)\n",
    "        \n",
    "    if len(os.listdir(test_subfolder_path)) > 0:\n",
    "        shutil.rmtree(test_subfolder_path)\n",
    "    \n",
    "    for file in test_files:\n",
    "        os.makedirs(test_subfolder_path, exist_ok=True)\n",
    "        src_path = os.path.join(subfolder_path, file)\n",
    "        dst_path = os.path.join(test_subfolder_path, file)\n",
    "        shutil.copy(src_path, dst_path)"
   ]
  }
 ],
 "metadata": {
  "kernelspec": {
   "display_name": "Python 3 (ipykernel)",
   "language": "python",
   "name": "python3"
  },
  "language_info": {
   "codemirror_mode": {
    "name": "ipython",
    "version": 3
   },
   "file_extension": ".py",
   "mimetype": "text/x-python",
   "name": "python",
   "nbconvert_exporter": "python",
   "pygments_lexer": "ipython3",
   "version": "3.9.7"
  }
 },
 "nbformat": 4,
 "nbformat_minor": 5
}
